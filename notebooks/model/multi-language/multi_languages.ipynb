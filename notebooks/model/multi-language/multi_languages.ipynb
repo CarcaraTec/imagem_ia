{
 "cells": [
  {
   "cell_type": "code",
   "execution_count": 1,
   "metadata": {},
   "outputs": [
    {
     "name": "stderr",
     "output_type": "stream",
     "text": [
      "[nltk_data] Downloading package stopwords to\n",
      "[nltk_data]     C:\\Users\\Igor\\AppData\\Roaming\\nltk_data...\n",
      "[nltk_data]   Package stopwords is already up-to-date!\n",
      "[nltk_data] Downloading package punkt to\n",
      "[nltk_data]     C:\\Users\\Igor\\AppData\\Roaming\\nltk_data...\n",
      "[nltk_data]   Package punkt is already up-to-date!\n"
     ]
    }
   ],
   "source": [
    "import nltk\n",
    "import pandas as pd\n",
    "from nltk.corpus import stopwords\n",
    "from nltk.stem.porter import PorterStemmer\n",
    "from nltk.tokenize import word_tokenize \n",
    "from deep_translator import GoogleTranslator\n",
    "import pickle\n",
    "\n",
    "nltk.download('stopwords')\n",
    "nltk.download('punkt')\n",
    "\n",
    "def text_preprocessing(text):\n",
    "    stop_words = set(stopwords.words('english')) \n",
    "    stemmer = PorterStemmer(PorterStemmer.ORIGINAL_ALGORITHM)\n",
    "  \n",
    "    tokens = word_tokenize(text)\n",
    "    splitted_words_without_stops = [word for word in tokens if not word in stop_words]\n",
    "    splitted_words_without_puncs = [word for word in splitted_words_without_stops if word.isalnum()] \n",
    "    stemmed_words = [stemmer.stem(word) for word in splitted_words_without_puncs]\n",
    "\n",
    "    return ' '.join(stemmed_words)\n",
    "\n",
    "# Carregar o modelo LightGBM treinado\n",
    "with open('../light_gbm/lightgbm_model.pkl', 'rb') as f:\n",
    "    lgbm_model = pickle.load(f)\n",
    "\n",
    "# Carregar o TFIDFVectorizer\n",
    "with open('../light_gbm/tfidf_vectorizer_lgb.pkl', 'rb') as f:\n",
    "    tfidf_vect = pickle.load(f)\n",
    "\n",
    "# Função para traduzir o texto para inglês\n",
    "def translate_to_english(text):\n",
    "    translator = GoogleTranslator(source='auto', target='en')\n",
    "    return translator.translate(text)"
   ]
  },
  {
   "cell_type": "code",
   "execution_count": 2,
   "metadata": {},
   "outputs": [],
   "source": [
    "def predict_sentiment(text):\n",
    "    # Traduzir a frase para o inglês\n",
    "    translated_text = translate_to_english(text)\n",
    "    print(translated_text)\n",
    "    # Preprocessar o texto traduzido\n",
    "    preprocessed_text = text_preprocessing(translated_text)\n",
    "    # Transformar o texto usando TFIDFVectorizer\n",
    "    text_vector = tfidf_vect.transform([preprocessed_text])\n",
    "    # Prever o sentimento usando o modelo treinado\n",
    "    sentiment = lgbm_model.predict(text_vector)[0]\n",
    "    if sentiment == 2:\n",
    "        return 'Positive'\n",
    "    elif sentiment == 1:\n",
    "        return 'Neutral'\n",
    "    else:\n",
    "        return 'Negative'"
   ]
  },
  {
   "cell_type": "code",
   "execution_count": 17,
   "metadata": {},
   "outputs": [
    {
     "name": "stdout",
     "output_type": "stream",
     "text": [
      "the room was noisy\n",
      "O sentimento da frase é: Negative\n"
     ]
    }
   ],
   "source": [
    "# Exemplo de uso\n",
    "input_text = \"o quarto estava barulhento\"\n",
    "sentiment = predict_sentiment(input_text)\n",
    "print(f\"O sentimento da frase é: {sentiment}\")"
   ]
  }
 ],
 "metadata": {
  "kernelspec": {
   "display_name": "Python 3",
   "language": "python",
   "name": "python3"
  },
  "language_info": {
   "codemirror_mode": {
    "name": "ipython",
    "version": 3
   },
   "file_extension": ".py",
   "mimetype": "text/x-python",
   "name": "python",
   "nbconvert_exporter": "python",
   "pygments_lexer": "ipython3",
   "version": "3.12.1"
  }
 },
 "nbformat": 4,
 "nbformat_minor": 2
}
