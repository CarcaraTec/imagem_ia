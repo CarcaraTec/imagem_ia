{
 "cells": [
  {
   "cell_type": "code",
   "execution_count": 1,
   "metadata": {},
   "outputs": [
    {
     "name": "stderr",
     "output_type": "stream",
     "text": [
      "[nltk_data] Downloading package stopwords to\n",
      "[nltk_data]     C:\\Users\\Igor\\AppData\\Roaming\\nltk_data...\n",
      "[nltk_data]   Package stopwords is already up-to-date!\n",
      "[nltk_data] Downloading package punkt to\n",
      "[nltk_data]     C:\\Users\\Igor\\AppData\\Roaming\\nltk_data...\n",
      "[nltk_data]   Package punkt is already up-to-date!\n"
     ]
    }
   ],
   "source": [
    "import pandas as pd \n",
    "from sklearn.model_selection import train_test_split\n",
    "import nltk\n",
    "from nltk.corpus import stopwords\n",
    "from nltk.stem.porter import PorterStemmer\n",
    "nltk.download('stopwords')\n",
    "nltk.download('punkt')\n",
    "from nltk.tokenize import word_tokenize \n",
    "from sklearn.feature_extraction.text import CountVectorizer\n",
    "from sklearn.pipeline import Pipeline\n",
    "from sklearn.naive_bayes import MultinomialNB\n",
    "from sklearn import metrics\n",
    "from sklearn.metrics import classification_report, confusion_matrix, ConfusionMatrixDisplay\n",
    "import matplotlib.pyplot as plt"
   ]
  },
  {
   "cell_type": "code",
   "execution_count": 2,
   "metadata": {},
   "outputs": [
    {
     "data": {
      "text/plain": [
       "review_type\n",
       " 1    10728\n",
       " 0    10728\n",
       "-1    10728\n",
       "Name: count, dtype: int64"
      ]
     },
     "execution_count": 2,
     "metadata": {},
     "output_type": "execute_result"
    }
   ],
   "source": [
    "df = pd.read_csv(\"df_to_train.csv\")\n",
    "df['Total_Review'] = df['Total_Review'].fillna('')\n",
    "\n",
    "df.review_type = df['review_type'].map({'positive': 1, 'neutral': 0, 'negative': -1})\n",
    "df.review_type.value_counts()"
   ]
  },
  {
   "cell_type": "code",
   "execution_count": 3,
   "metadata": {},
   "outputs": [],
   "source": [
    "reviews = df.Total_Review\n",
    "sentiment = df.review_type"
   ]
  },
  {
   "cell_type": "code",
   "execution_count": 4,
   "metadata": {},
   "outputs": [],
   "source": [
    "def text_preprocessing(text):\n",
    "  stop_words = set(stopwords.words('english')) \n",
    "  stemmer = PorterStemmer(PorterStemmer.ORIGINAL_ALGORITHM)\n",
    "  \n",
    "  tokens = word_tokenize(text)\n",
    "  splitted_words_without_stops = [word for word in tokens if not word in stop_words]\n",
    "  splitted_words_without_puncs = [word for word in splitted_words_without_stops  if word.isalnum()] \n",
    "  stemmed_words = [stemmer.stem(word) for word in splitted_words_without_puncs]\n",
    "\n",
    "  return ' '.join(stemmed_words)"
   ]
  },
  {
   "cell_type": "code",
   "execution_count": 5,
   "metadata": {},
   "outputs": [
    {
     "name": "stdout",
     "output_type": "stream",
     "text": [
      "9656\n",
      "<class 'pandas.core.series.Series'>\n"
     ]
    }
   ],
   "source": [
    "X = reviews\n",
    "Y = sentiment\n",
    "X_train, X_test, y_train, y_test = train_test_split( X, Y, test_size=0.30, random_state=42)\n",
    "print(len(X_test))\n",
    "print(type(X_test))"
   ]
  },
  {
   "cell_type": "markdown",
   "metadata": {},
   "source": [
    "# Bag of Words Feature Extractor"
   ]
  },
  {
   "cell_type": "code",
   "execution_count": 6,
   "metadata": {},
   "outputs": [],
   "source": [
    "feature_extractor = CountVectorizer(lowercase=False, preprocessor=text_preprocessing)"
   ]
  },
  {
   "cell_type": "markdown",
   "metadata": {},
   "source": [
    "# NB Training"
   ]
  },
  {
   "cell_type": "code",
   "execution_count": 7,
   "metadata": {},
   "outputs": [
    {
     "name": "stdout",
     "output_type": "stream",
     "text": [
      "The training accuracy: 79.66974431818183 % accuracy\n"
     ]
    }
   ],
   "source": [
    "pipe_NB = Pipeline([\n",
    "    ('feature_extractor', feature_extractor),\n",
    "    ('Naive_bayes', MultinomialNB())\n",
    "])\n",
    "\n",
    "pipe_NB.fit(X_train, y_train)\n",
    "NB_predicted_training = pipe_NB.predict(X_train)\n",
    "\n",
    "NB_training_acc = (metrics.accuracy_score(y_train, NB_predicted_training))*100\n",
    "print('The training accuracy:',NB_training_acc,'% accuracy')"
   ]
  },
  {
   "cell_type": "markdown",
   "metadata": {},
   "source": [
    "# NB Testing"
   ]
  },
  {
   "cell_type": "code",
   "execution_count": 8,
   "metadata": {},
   "outputs": [
    {
     "name": "stdout",
     "output_type": "stream",
     "text": [
      "The test accuracy: 75.24855012427506 % accuracy\n"
     ]
    }
   ],
   "source": [
    "NB_predicted_testing = pipe_NB.predict(X_test)\n",
    "\n",
    "NB_testing_acc = (metrics.accuracy_score(y_test, NB_predicted_testing))*100\n",
    "print('The test accuracy:',NB_testing_acc,'% accuracy')"
   ]
  },
  {
   "cell_type": "code",
   "execution_count": 9,
   "metadata": {},
   "outputs": [
    {
     "name": "stdout",
     "output_type": "stream",
     "text": [
      "              precision    recall  f1-score   support\n",
      "\n",
      "          -1       0.72      0.72      0.72      3186\n",
      "           0       0.70      0.67      0.68      3226\n",
      "           1       0.83      0.87      0.85      3244\n",
      "\n",
      "    accuracy                           0.75      9656\n",
      "   macro avg       0.75      0.75      0.75      9656\n",
      "weighted avg       0.75      0.75      0.75      9656\n",
      "\n"
     ]
    }
   ],
   "source": [
    "print(classification_report(y_test, NB_predicted_testing))"
   ]
  },
  {
   "cell_type": "code",
   "execution_count": 10,
   "metadata": {},
   "outputs": [
    {
     "data": {
      "image/png": "[encoded data removed]",
      "text/plain": [
       "<Figure size 640x480 with 2 Axes>"
      ]
     },
     "metadata": {},
     "output_type": "display_data"
    }
   ],
   "source": [
    "cm = confusion_matrix(y_test, NB_predicted_testing, labels=pipe_NB.classes_)\n",
    "disp = ConfusionMatrixDisplay(confusion_matrix=cm, display_labels=pipe_NB.classes_)\n",
    "disp.plot()\n",
    "plt.show()"
   ]
  },
  {
   "cell_type": "code",
   "execution_count": 13,
   "metadata": {},
   "outputs": [],
   "source": [
    "import pickle\n",
    "\n",
    "with open('naive_bayes_model.pkl', 'wb') as f:\n",
    "    pickle.dump(pipe_NB, f)\n"
   ]
  }
 ],
 "metadata": {
  "kernelspec": {
   "display_name": "Python 3",
   "language": "python",
   "name": "python3"
  },
  "language_info": {
   "codemirror_mode": {
    "name": "ipython",
    "version": 3
   },
   "file_extension": ".py",
   "mimetype": "text/x-python",
   "name": "python",
   "nbconvert_exporter": "python",
   "pygments_lexer": "ipython3",
   "version": "3.12.1"
  }
 },
 "nbformat": 4,
 "nbformat_minor": 2
}
